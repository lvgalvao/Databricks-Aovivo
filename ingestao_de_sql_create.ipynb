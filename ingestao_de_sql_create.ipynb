{
 "cells": [
  {
   "cell_type": "code",
   "execution_count": 0,
   "metadata": {
    "application/vnd.databricks.v1+cell": {
     "cellMetadata": {
      "byteLimit": 2048000,
      "rowLimit": 10000
     },
     "inputWidgets": {},
     "nuid": "bb2107a6-dbb3-4e50-a864-163f8fa0c59d",
     "showTitle": false,
     "tableResultSettingsMap": {},
     "title": ""
    }
   },
   "outputs": [],
   "source": [
    "# Configurações de conexão com o banco PostgreSQL\n",
    "jdbc_url = \"jdbc:postgresql://dpg-cuciu352ng1s73b52bgg-a.ohio-postgres.render.com:5432/transactions_yz0m\"\n",
    "jdbc_properties = {\n",
    "    \"user\": \"transactions_yz0m_user\",\n",
    "    \"password\": \"66BsNmXaNh3btK1ZY8GLbnrFmwUFK9xY\",\n",
    "    \"driver\": \"org.postgresql.Driver\"\n",
    "}\n",
    "\n",
    "# Nome da tabela no PostgreSQL\n",
    "postgres_table = \"transactions\"\n",
    "\n",
    "# Nome da tabela gerenciada no Databricks\n",
    "databricks_table = \"bronze.transactions\"\n",
    "\n",
    "# Carregar os dados do PostgreSQL para um DataFrame Spark\n",
    "transactions_df = (\n",
    "    spark.read.format(\"jdbc\")\n",
    "    .option(\"url\", jdbc_url)\n",
    "    .option(\"dbtable\", postgres_table)\n",
    "    .option(\"user\", jdbc_properties[\"user\"])\n",
    "    .option(\"password\", jdbc_properties[\"password\"])\n",
    "    .option(\"driver\", jdbc_properties[\"driver\"])\n",
    "    .load()\n",
    ")\n",
    "\n",
    "# Exibir amostra dos dados carregados\n",
    "transactions_df.show(5)\n",
    "\n",
    "# Salvar os dados diretamente em uma tabela gerenciada no Databricks\n",
    "transactions_df.write.format(\"delta\").mode(\"overwrite\").saveAsTable(databricks_table)\n",
    "\n",
    "print(f\"Tabela '{databricks_table}' criada com sucesso no Databricks.\")\n"
   ]
  }
 ],
 "metadata": {
  "application/vnd.databricks.v1+notebook": {
   "computePreferences": null,
   "dashboards": [],
   "environmentMetadata": {
    "base_environment": "",
    "client": "2"
   },
   "language": "python",
   "notebookMetadata": {
    "mostRecentlyExecutedCommandWithImplicitDF": {
     "commandId": 8098307925942193,
     "dataframes": [
      "_sqldf"
     ]
    },
    "pythonIndentUnit": 4
   },
   "notebookName": "ingestao_de_sql_create",
   "widgets": {}
  },
  "language_info": {
   "name": "python"
  }
 },
 "nbformat": 4,
 "nbformat_minor": 0
}
