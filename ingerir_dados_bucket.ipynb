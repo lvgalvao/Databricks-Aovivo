{
 "cells": [
  {
   "cell_type": "code",
   "execution_count": 0,
   "metadata": {
    "application/vnd.databricks.v1+cell": {
     "cellMetadata": {
      "byteLimit": 2048000,
      "implicitDf": true,
      "rowLimit": 10000
     },
     "inputWidgets": {},
     "nuid": "e65a16ea-21cc-48c1-bbb0-beabfdd85033",
     "showTitle": false,
     "tableResultSettingsMap": {},
     "title": ""
    }
   },
   "outputs": [],
   "source": [
    "%sql\n",
    "USE SCHEMA bronze;\n",
    "CREATE OR REFRESH STREAMING LIVE TABLE customers\n",
    "AS SELECT *\n",
    "FROM cloud_files(\n",
    "    \"s3a://bucket-cadastro-dos-clientes\",\n",
    "    \"json\",\n",
    "    MAP(\n",
    "        \"inferSchema\", \"true\",     -- Deduzir automaticamente o esquema do JSON\n",
    "        \"multiline\", \"true\"        -- Permitir arquivos JSON com várias linhas\n",
    "    )\n",
    ");\n",
    "\n"
   ]
  }
 ],
 "metadata": {
  "application/vnd.databricks.v1+notebook": {
   "computePreferences": null,
   "dashboards": [],
   "environmentMetadata": {
    "base_environment": "",
    "client": "2"
   },
   "language": "python",
   "notebookMetadata": {
    "mostRecentlyExecutedCommandWithImplicitDF": {
     "commandId": 8098307925942213,
     "dataframes": [
      "_sqldf"
     ]
    },
    "pythonIndentUnit": 4
   },
   "notebookName": "ingerir_dados_bucket",
   "widgets": {}
  },
  "language_info": {
   "name": "python"
  }
 },
 "nbformat": 4,
 "nbformat_minor": 0
}
